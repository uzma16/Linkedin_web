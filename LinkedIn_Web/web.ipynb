{
 "cells": [
  {
   "cell_type": "code",
   "execution_count": 22,
   "id": "38d12f68",
   "metadata": {},
   "outputs": [],
   "source": [
    "import pandas as pd \n",
    "import gspread\n",
    "from selenium import webdriver\n",
    "from selenium.webdriver.common.by import By\n",
    "from selenium.webdriver.common.keys import Keys\n",
    "import numpy as np\n",
    "from bs4 import BeautifulSoup\n",
    "import time\n",
    "from selenium.webdriver.support.wait import WebDriverWait\n",
    "from selenium.webdriver.support import expected_conditions as EC"
   ]
  },
  {
   "cell_type": "code",
   "execution_count": 23,
   "id": "619d83bd",
   "metadata": {},
   "outputs": [],
   "source": [
    "gc = gspread.service_account(filename =r'leads-key.json')\n",
    "import_data = gc.open(\"linkedin_leads\").worksheet('Sheet1') \n",
    "export_data = gc.open(\"linkedin_leads\").worksheet('Sheet2')"
   ]
  },
  {
   "cell_type": "code",
   "execution_count": 24,
   "id": "c9a3492e",
   "metadata": {},
   "outputs": [
    {
     "name": "stdout",
     "output_type": "stream",
     "text": [
      "Login Successfully\n"
     ]
    }
   ],
   "source": [
    "driver=webdriver.Chrome()\n",
    "wait = WebDriverWait(driver, 20)\n",
    "driver.get(\"https://linkedin.com/\")\n",
    "wait.until(EC.presence_of_element_located((By.ID, \"session_key\"))).send_keys('Your email ID')\n",
    "driver.find_element(By.ID, \"session_password\").send_keys('Your Password')\n",
    "driver.find_element(By.CSS_SELECTOR, \"button[type='submit']\").click()\n",
    "print(\"Login Successfully\")"
   ]
  },
  {
   "cell_type": "code",
   "execution_count": 25,
   "id": "7e6904d9",
   "metadata": {},
   "outputs": [],
   "source": [
    "#To find the selected jobs\n",
    "\n",
    "def find_jobs (soup):   \n",
    "        jobs = soup.find_all('div',{'class':'job-card-container'})\n",
    "        job_role = []\n",
    "        company = []\n",
    "        location = []\n",
    "        date = []\n",
    "        for i in jobs:\n",
    "            try:\n",
    "                job_role.append(i.find('a',{'class': 'disabled ember-view job-card-container__link job-card-list__title'}).text.strip())\n",
    "            except:\n",
    "                job_role.append(np.nan)\n",
    "            try:\n",
    "                company.append(i.find('span',{'class':'job-card-container__primary-description'}).text.strip())\n",
    "            except:\n",
    "                company.append(np.nan)\n",
    "            try:\n",
    "                location.append(i.find('li',{'class':'job-card-container__metadata-item'}).text.strip())\n",
    "            except:\n",
    "                location.append(np.nan)\n",
    "            try:\n",
    "                date.append(i.find('time')['datetime'])\n",
    "            except:\n",
    "                date.append(np.nan)       \n",
    "        d = {'job_role':job_role, 'company':company, 'location':location, 'date':date}\n",
    "        df = pd.DataFrame(d)\n",
    "        return df"
   ]
  },
  {
   "cell_type": "code",
   "execution_count": 26,
   "id": "98862988",
   "metadata": {},
   "outputs": [],
   "source": [
    "def slow_scroll():\n",
    "    scroll_iterations = 10  # Adjust the number of scroll iterations as needed\n",
    "    scroll_increment = 500  # Adjust the scroll height increment as needed\n",
    "    for _ in range(scroll_iterations):\n",
    "        driver.execute_script(f\"window.document.getElementsByClassName('jobs-search-results-list')[0].scrollBy(0, {scroll_increment});\")\n",
    "        time.sleep(1)  "
   ]
  },
  {
   "cell_type": "code",
   "execution_count": 27,
   "id": "55d88c01",
   "metadata": {},
   "outputs": [],
   "source": [
    "def update_data():\n",
    "    global combined_df\n",
    "    src = driver.page_source\n",
    "    soup = BeautifulSoup(src, 'lxml')\n",
    "    soup.prettify()\n",
    "    df = find_jobs(soup)\n",
    "    dff = df.fillna('N/A')\n",
    "    data = dff.values.tolist()\n",
    "    export_data.append_rows(data) # Insert the data into the Google Sheet"
   ]
  },
  {
   "cell_type": "code",
   "execution_count": 28,
   "id": "61f1dd37",
   "metadata": {},
   "outputs": [
    {
     "name": "stdout",
     "output_type": "stream",
     "text": [
      "Pagination error: Message: \n",
      "Stacktrace:\n",
      "\tGetHandleVerifier [0x00007FF62AC082B2+55298]\n",
      "\t(No symbol) [0x00007FF62AB75E02]\n",
      "\t(No symbol) [0x00007FF62AA305AB]\n",
      "\t(No symbol) [0x00007FF62AA7175C]\n",
      "\t(No symbol) [0x00007FF62AA718DC]\n",
      "\t(No symbol) [0x00007FF62AAACBC7]\n",
      "\t(No symbol) [0x00007FF62AA920EF]\n",
      "\t(No symbol) [0x00007FF62AAAAAA4]\n",
      "\t(No symbol) [0x00007FF62AA91E83]\n",
      "\t(No symbol) [0x00007FF62AA6670A]\n",
      "\t(No symbol) [0x00007FF62AA67964]\n",
      "\tGetHandleVerifier [0x00007FF62AF80AAB+3694587]\n",
      "\tGetHandleVerifier [0x00007FF62AFD728E+4048862]\n",
      "\tGetHandleVerifier [0x00007FF62AFCF173+4015811]\n",
      "\tGetHandleVerifier [0x00007FF62ACA47D6+695590]\n",
      "\t(No symbol) [0x00007FF62AB80CE8]\n",
      "\t(No symbol) [0x00007FF62AB7CF34]\n",
      "\t(No symbol) [0x00007FF62AB7D062]\n",
      "\t(No symbol) [0x00007FF62AB6D3A3]\n",
      "\tBaseThreadInitThunk [0x00007FFA90DB7344+20]\n",
      "\tRtlUserThreadStart [0x00007FFA912226B1+33]\n",
      "\n",
      "Pagination error: Message: \n",
      "Stacktrace:\n",
      "\tGetHandleVerifier [0x00007FF62AC082B2+55298]\n",
      "\t(No symbol) [0x00007FF62AB75E02]\n",
      "\t(No symbol) [0x00007FF62AA305AB]\n",
      "\t(No symbol) [0x00007FF62AA7175C]\n",
      "\t(No symbol) [0x00007FF62AA718DC]\n",
      "\t(No symbol) [0x00007FF62AAACBC7]\n",
      "\t(No symbol) [0x00007FF62AA920EF]\n",
      "\t(No symbol) [0x00007FF62AAAAAA4]\n",
      "\t(No symbol) [0x00007FF62AA91E83]\n",
      "\t(No symbol) [0x00007FF62AA6670A]\n",
      "\t(No symbol) [0x00007FF62AA67964]\n",
      "\tGetHandleVerifier [0x00007FF62AF80AAB+3694587]\n",
      "\tGetHandleVerifier [0x00007FF62AFD728E+4048862]\n",
      "\tGetHandleVerifier [0x00007FF62AFCF173+4015811]\n",
      "\tGetHandleVerifier [0x00007FF62ACA47D6+695590]\n",
      "\t(No symbol) [0x00007FF62AB80CE8]\n",
      "\t(No symbol) [0x00007FF62AB7CF34]\n",
      "\t(No symbol) [0x00007FF62AB7D062]\n",
      "\t(No symbol) [0x00007FF62AB6D3A3]\n",
      "\tBaseThreadInitThunk [0x00007FFA90DB7344+20]\n",
      "\tRtlUserThreadStart [0x00007FFA912226B1+33]\n",
      "\n",
      "Pagination error: Message: no such window: target window already closed\n",
      "from unknown error: web view not found\n",
      "  (Session info: chrome=119.0.6045.105)\n",
      "Stacktrace:\n",
      "\tGetHandleVerifier [0x00007FF62AC082B2+55298]\n",
      "\t(No symbol) [0x00007FF62AB75E02]\n",
      "\t(No symbol) [0x00007FF62AA305AB]\n",
      "\t(No symbol) [0x00007FF62AA10038]\n",
      "\t(No symbol) [0x00007FF62AA96BC7]\n",
      "\t(No symbol) [0x00007FF62AAAA15F]\n",
      "\t(No symbol) [0x00007FF62AA91E83]\n",
      "\t(No symbol) [0x00007FF62AA6670A]\n",
      "\t(No symbol) [0x00007FF62AA67964]\n",
      "\tGetHandleVerifier [0x00007FF62AF80AAB+3694587]\n",
      "\tGetHandleVerifier [0x00007FF62AFD728E+4048862]\n",
      "\tGetHandleVerifier [0x00007FF62AFCF173+4015811]\n",
      "\tGetHandleVerifier [0x00007FF62ACA47D6+695590]\n",
      "\t(No symbol) [0x00007FF62AB80CE8]\n",
      "\t(No symbol) [0x00007FF62AB7CF34]\n",
      "\t(No symbol) [0x00007FF62AB7D062]\n",
      "\t(No symbol) [0x00007FF62AB6D3A3]\n",
      "\tBaseThreadInitThunk [0x00007FFA90DB7344+20]\n",
      "\tRtlUserThreadStart [0x00007FFA912226B1+33]\n",
      "\n"
     ]
    },
    {
     "ename": "NoSuchWindowException",
     "evalue": "Message: no such window: target window already closed\nfrom unknown error: web view not found\n  (Session info: chrome=119.0.6045.105)\nStacktrace:\n\tGetHandleVerifier [0x00007FF62AC082B2+55298]\n\t(No symbol) [0x00007FF62AB75E02]\n\t(No symbol) [0x00007FF62AA305AB]\n\t(No symbol) [0x00007FF62AA10038]\n\t(No symbol) [0x00007FF62AA96BC7]\n\t(No symbol) [0x00007FF62AAAA15F]\n\t(No symbol) [0x00007FF62AA91E83]\n\t(No symbol) [0x00007FF62AA6670A]\n\t(No symbol) [0x00007FF62AA67964]\n\tGetHandleVerifier [0x00007FF62AF80AAB+3694587]\n\tGetHandleVerifier [0x00007FF62AFD728E+4048862]\n\tGetHandleVerifier [0x00007FF62AFCF173+4015811]\n\tGetHandleVerifier [0x00007FF62ACA47D6+695590]\n\t(No symbol) [0x00007FF62AB80CE8]\n\t(No symbol) [0x00007FF62AB7CF34]\n\t(No symbol) [0x00007FF62AB7D062]\n\t(No symbol) [0x00007FF62AB6D3A3]\n\tBaseThreadInitThunk [0x00007FFA90DB7344+20]\n\tRtlUserThreadStart [0x00007FFA912226B1+33]\n",
     "output_type": "error",
     "traceback": [
      "\u001b[1;31m---------------------------------------------------------------------------\u001b[0m",
      "\u001b[1;31mNoSuchWindowException\u001b[0m                     Traceback (most recent call last)",
      "\u001b[1;32m~\\AppData\\Local\\Temp\\ipykernel_3464\\860480016.py\u001b[0m in \u001b[0;36m<module>\u001b[1;34m\u001b[0m\n\u001b[0;32m     39\u001b[0m \u001b[1;33m\u001b[0m\u001b[0m\n\u001b[0;32m     40\u001b[0m     \u001b[0mtime\u001b[0m\u001b[1;33m.\u001b[0m\u001b[0msleep\u001b[0m\u001b[1;33m(\u001b[0m\u001b[1;36m2\u001b[0m\u001b[1;33m)\u001b[0m\u001b[1;33m\u001b[0m\u001b[1;33m\u001b[0m\u001b[0m\n\u001b[1;32m---> 41\u001b[1;33m     \u001b[0mdriver\u001b[0m\u001b[1;33m.\u001b[0m\u001b[0mfind_element\u001b[0m\u001b[1;33m(\u001b[0m\u001b[0mBy\u001b[0m\u001b[1;33m.\u001b[0m\u001b[0mCLASS_NAME\u001b[0m\u001b[1;33m,\u001b[0m \u001b[1;34m\"jobs-search-box__keyboard-text-input\"\u001b[0m\u001b[1;33m)\u001b[0m\u001b[1;33m.\u001b[0m\u001b[0mclear\u001b[0m\u001b[1;33m(\u001b[0m\u001b[1;33m)\u001b[0m \u001b[1;31m#To clear\u001b[0m\u001b[1;33m\u001b[0m\u001b[1;33m\u001b[0m\u001b[0m\n\u001b[0m",
      "\u001b[1;32mc:\\Users\\Dell\\anaconda3\\lib\\site-packages\\selenium\\webdriver\\remote\\webdriver.py\u001b[0m in \u001b[0;36mfind_element\u001b[1;34m(self, by, value)\u001b[0m\n\u001b[0;32m    736\u001b[0m             \u001b[0mvalue\u001b[0m \u001b[1;33m=\u001b[0m \u001b[1;34mf'[name=\"{value}\"]'\u001b[0m\u001b[1;33m\u001b[0m\u001b[1;33m\u001b[0m\u001b[0m\n\u001b[0;32m    737\u001b[0m \u001b[1;33m\u001b[0m\u001b[0m\n\u001b[1;32m--> 738\u001b[1;33m         \u001b[1;32mreturn\u001b[0m \u001b[0mself\u001b[0m\u001b[1;33m.\u001b[0m\u001b[0mexecute\u001b[0m\u001b[1;33m(\u001b[0m\u001b[0mCommand\u001b[0m\u001b[1;33m.\u001b[0m\u001b[0mFIND_ELEMENT\u001b[0m\u001b[1;33m,\u001b[0m \u001b[1;33m{\u001b[0m\u001b[1;34m\"using\"\u001b[0m\u001b[1;33m:\u001b[0m \u001b[0mby\u001b[0m\u001b[1;33m,\u001b[0m \u001b[1;34m\"value\"\u001b[0m\u001b[1;33m:\u001b[0m \u001b[0mvalue\u001b[0m\u001b[1;33m}\u001b[0m\u001b[1;33m)\u001b[0m\u001b[1;33m[\u001b[0m\u001b[1;34m\"value\"\u001b[0m\u001b[1;33m]\u001b[0m\u001b[1;33m\u001b[0m\u001b[1;33m\u001b[0m\u001b[0m\n\u001b[0m\u001b[0;32m    739\u001b[0m \u001b[1;33m\u001b[0m\u001b[0m\n\u001b[0;32m    740\u001b[0m     \u001b[1;32mdef\u001b[0m \u001b[0mfind_elements\u001b[0m\u001b[1;33m(\u001b[0m\u001b[0mself\u001b[0m\u001b[1;33m,\u001b[0m \u001b[0mby\u001b[0m\u001b[1;33m=\u001b[0m\u001b[0mBy\u001b[0m\u001b[1;33m.\u001b[0m\u001b[0mID\u001b[0m\u001b[1;33m,\u001b[0m \u001b[0mvalue\u001b[0m\u001b[1;33m:\u001b[0m \u001b[0mOptional\u001b[0m\u001b[1;33m[\u001b[0m\u001b[0mstr\u001b[0m\u001b[1;33m]\u001b[0m \u001b[1;33m=\u001b[0m \u001b[1;32mNone\u001b[0m\u001b[1;33m)\u001b[0m \u001b[1;33m->\u001b[0m \u001b[0mList\u001b[0m\u001b[1;33m[\u001b[0m\u001b[0mWebElement\u001b[0m\u001b[1;33m]\u001b[0m\u001b[1;33m:\u001b[0m\u001b[1;33m\u001b[0m\u001b[1;33m\u001b[0m\u001b[0m\n",
      "\u001b[1;32mc:\\Users\\Dell\\anaconda3\\lib\\site-packages\\selenium\\webdriver\\remote\\webdriver.py\u001b[0m in \u001b[0;36mexecute\u001b[1;34m(self, driver_command, params)\u001b[0m\n\u001b[0;32m    342\u001b[0m         \u001b[0mresponse\u001b[0m \u001b[1;33m=\u001b[0m \u001b[0mself\u001b[0m\u001b[1;33m.\u001b[0m\u001b[0mcommand_executor\u001b[0m\u001b[1;33m.\u001b[0m\u001b[0mexecute\u001b[0m\u001b[1;33m(\u001b[0m\u001b[0mdriver_command\u001b[0m\u001b[1;33m,\u001b[0m \u001b[0mparams\u001b[0m\u001b[1;33m)\u001b[0m\u001b[1;33m\u001b[0m\u001b[1;33m\u001b[0m\u001b[0m\n\u001b[0;32m    343\u001b[0m         \u001b[1;32mif\u001b[0m \u001b[0mresponse\u001b[0m\u001b[1;33m:\u001b[0m\u001b[1;33m\u001b[0m\u001b[1;33m\u001b[0m\u001b[0m\n\u001b[1;32m--> 344\u001b[1;33m             \u001b[0mself\u001b[0m\u001b[1;33m.\u001b[0m\u001b[0merror_handler\u001b[0m\u001b[1;33m.\u001b[0m\u001b[0mcheck_response\u001b[0m\u001b[1;33m(\u001b[0m\u001b[0mresponse\u001b[0m\u001b[1;33m)\u001b[0m\u001b[1;33m\u001b[0m\u001b[1;33m\u001b[0m\u001b[0m\n\u001b[0m\u001b[0;32m    345\u001b[0m             \u001b[0mresponse\u001b[0m\u001b[1;33m[\u001b[0m\u001b[1;34m\"value\"\u001b[0m\u001b[1;33m]\u001b[0m \u001b[1;33m=\u001b[0m \u001b[0mself\u001b[0m\u001b[1;33m.\u001b[0m\u001b[0m_unwrap_value\u001b[0m\u001b[1;33m(\u001b[0m\u001b[0mresponse\u001b[0m\u001b[1;33m.\u001b[0m\u001b[0mget\u001b[0m\u001b[1;33m(\u001b[0m\u001b[1;34m\"value\"\u001b[0m\u001b[1;33m,\u001b[0m \u001b[1;32mNone\u001b[0m\u001b[1;33m)\u001b[0m\u001b[1;33m)\u001b[0m\u001b[1;33m\u001b[0m\u001b[1;33m\u001b[0m\u001b[0m\n\u001b[0;32m    346\u001b[0m             \u001b[1;32mreturn\u001b[0m \u001b[0mresponse\u001b[0m\u001b[1;33m\u001b[0m\u001b[1;33m\u001b[0m\u001b[0m\n",
      "\u001b[1;32mc:\\Users\\Dell\\anaconda3\\lib\\site-packages\\selenium\\webdriver\\remote\\errorhandler.py\u001b[0m in \u001b[0;36mcheck_response\u001b[1;34m(self, response)\u001b[0m\n\u001b[0;32m    227\u001b[0m                 \u001b[0malert_text\u001b[0m \u001b[1;33m=\u001b[0m \u001b[0mvalue\u001b[0m\u001b[1;33m[\u001b[0m\u001b[1;34m\"alert\"\u001b[0m\u001b[1;33m]\u001b[0m\u001b[1;33m.\u001b[0m\u001b[0mget\u001b[0m\u001b[1;33m(\u001b[0m\u001b[1;34m\"text\"\u001b[0m\u001b[1;33m)\u001b[0m\u001b[1;33m\u001b[0m\u001b[1;33m\u001b[0m\u001b[0m\n\u001b[0;32m    228\u001b[0m             \u001b[1;32mraise\u001b[0m \u001b[0mexception_class\u001b[0m\u001b[1;33m(\u001b[0m\u001b[0mmessage\u001b[0m\u001b[1;33m,\u001b[0m \u001b[0mscreen\u001b[0m\u001b[1;33m,\u001b[0m \u001b[0mstacktrace\u001b[0m\u001b[1;33m,\u001b[0m \u001b[0malert_text\u001b[0m\u001b[1;33m)\u001b[0m  \u001b[1;31m# type: ignore[call-arg]  # mypy is not smart enough here\u001b[0m\u001b[1;33m\u001b[0m\u001b[1;33m\u001b[0m\u001b[0m\n\u001b[1;32m--> 229\u001b[1;33m         \u001b[1;32mraise\u001b[0m \u001b[0mexception_class\u001b[0m\u001b[1;33m(\u001b[0m\u001b[0mmessage\u001b[0m\u001b[1;33m,\u001b[0m \u001b[0mscreen\u001b[0m\u001b[1;33m,\u001b[0m \u001b[0mstacktrace\u001b[0m\u001b[1;33m)\u001b[0m\u001b[1;33m\u001b[0m\u001b[1;33m\u001b[0m\u001b[0m\n\u001b[0m",
      "\u001b[1;31mNoSuchWindowException\u001b[0m: Message: no such window: target window already closed\nfrom unknown error: web view not found\n  (Session info: chrome=119.0.6045.105)\nStacktrace:\n\tGetHandleVerifier [0x00007FF62AC082B2+55298]\n\t(No symbol) [0x00007FF62AB75E02]\n\t(No symbol) [0x00007FF62AA305AB]\n\t(No symbol) [0x00007FF62AA10038]\n\t(No symbol) [0x00007FF62AA96BC7]\n\t(No symbol) [0x00007FF62AAAA15F]\n\t(No symbol) [0x00007FF62AA91E83]\n\t(No symbol) [0x00007FF62AA6670A]\n\t(No symbol) [0x00007FF62AA67964]\n\tGetHandleVerifier [0x00007FF62AF80AAB+3694587]\n\tGetHandleVerifier [0x00007FF62AFD728E+4048862]\n\tGetHandleVerifier [0x00007FF62AFCF173+4015811]\n\tGetHandleVerifier [0x00007FF62ACA47D6+695590]\n\t(No symbol) [0x00007FF62AB80CE8]\n\t(No symbol) [0x00007FF62AB7CF34]\n\t(No symbol) [0x00007FF62AB7D062]\n\t(No symbol) [0x00007FF62AB6D3A3]\n\tBaseThreadInitThunk [0x00007FFA90DB7344+20]\n\tRtlUserThreadStart [0x00007FFA912226B1+33]\n"
     ]
    }
   ],
   "source": [
    "def search_and_extract_data(client, combined_df):\n",
    "    if client == 0: \n",
    "        wait.until(EC.element_to_be_clickable((By.CLASS_NAME, \"search-global-typeahead\"))).click() # searching\n",
    "        driver.find_element(By.XPATH, \"//input[@placeholder='Search']\").send_keys(clients[0],Keys.ENTER) #value type\n",
    "        wait.until(EC.element_to_be_clickable((By.XPATH, \"//button[@aria-pressed='false'][normalize-space()='Jobs']\"))).click() # Filter for job\n",
    "        wait.until(EC.element_to_be_clickable((By.ID, \"searchFilter_timePostedRange\"))).click() # Datetime Filter\n",
    "        wait.until(EC.element_to_be_clickable((By.XPATH, \"//section[1]//div[1]//section[1]//div[1]//div[1]//div[1]//ul[1]//li[3]//div[1]//div[1]//div[1]//div[1]//div[1]//form[1]//fieldset[1]//div[1]//ul[1]//li[3]//label[1]//p[1]//span[1]\"))).click()  #Week\n",
    "        wait.until(EC.element_to_be_clickable((By.XPATH, \"/html[1]/body[1]/div[5]/div[3]/div[4]/section[1]/div[1]/section[1]/div[1]/div[1]/div[1]/ul[1]/li[3]/div[1]/div[1]/div[1]/div[1]/div[1]/form[1]/fieldset[1]/div[2]/button[2]\"))).click() #Submit\n",
    "        slow_scroll()\n",
    "        update_data()\n",
    "        try:\n",
    "            for i in range(2, 7): \n",
    "                page_button_xpath = f\"//button[@aria-label='Page {i}']\"\n",
    "                wait.until(EC.element_to_be_clickable((By.XPATH, page_button_xpath))).click()\n",
    "                slow_scroll()\n",
    "                update_data()\n",
    "        except Exception as e:\n",
    "            print(\"Pagination error:\", str(e))\n",
    "\n",
    "    else:\n",
    "        driver.find_element(By.CLASS_NAME, \"jobs-search-box__keyboard-text-input\").send_keys(clients[client],Keys.ENTER)\n",
    "        slow_scroll()\n",
    "        update_data()\n",
    "        try:\n",
    "            for i in range(2, 7):\n",
    "                page_button_xpath = f\"//button[@aria-label='Page {i}']\"\n",
    "                wait.until(EC.element_to_be_clickable((By.XPATH, page_button_xpath))).click()\n",
    "                slow_scroll()\n",
    "                update_data()\n",
    "        except Exception as e:\n",
    "            print(\"Pagination error:\", str(e))\n",
    "   \n",
    "# Extraction of clients' names from sheet 1\n",
    "clients = import_data.col_values(1)\n",
    "combined_df = pd.DataFrame()\n",
    "\n",
    "for client in range(0,len(clients)):\n",
    "    combined_df = search_and_extract_data(client, combined_df)\n",
    "\n",
    "    time.sleep(2)\n",
    "    driver.find_element(By.CLASS_NAME, \"jobs-search-box__keyboard-text-input\").clear() #To clear"
   ]
  },
  {
   "cell_type": "code",
   "execution_count": null,
   "id": "2344e7b2",
   "metadata": {},
   "outputs": [],
   "source": [
    "# To close the window\n",
    "driver.quit()"
   ]
  }
 ],
 "metadata": {
  "kernelspec": {
   "display_name": "Python 3 (ipykernel)",
   "language": "python",
   "name": "python3"
  },
  "language_info": {
   "codemirror_mode": {
    "name": "ipython",
    "version": 3
   },
   "file_extension": ".py",
   "mimetype": "text/x-python",
   "name": "python",
   "nbconvert_exporter": "python",
   "pygments_lexer": "ipython3",
   "version": "3.9.13"
  }
 },
 "nbformat": 4,
 "nbformat_minor": 5
}
